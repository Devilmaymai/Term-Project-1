{
 "cells": [
  {
   "cell_type": "code",
   "execution_count": 1,
   "metadata": {},
   "outputs": [],
   "source": [
    "import pandas as pd\n",
    "import json\n",
    "import seaborn as sns\n",
    "import matplotlib.pyplot as plt\n",
    "import numpy as np"
   ]
  },
  {
   "cell_type": "markdown",
   "metadata": {},
   "source": [
    "# Load files"
   ]
  },
  {
   "cell_type": "code",
   "execution_count": 2,
   "metadata": {
    "scrolled": true
   },
   "outputs": [
    {
     "data": {
      "text/html": [
       "<div>\n",
       "<style scoped>\n",
       "    .dataframe tbody tr th:only-of-type {\n",
       "        vertical-align: middle;\n",
       "    }\n",
       "\n",
       "    .dataframe tbody tr th {\n",
       "        vertical-align: top;\n",
       "    }\n",
       "\n",
       "    .dataframe thead th {\n",
       "        text-align: right;\n",
       "    }\n",
       "</style>\n",
       "<table border=\"1\" class=\"dataframe\">\n",
       "  <thead>\n",
       "    <tr style=\"text-align: right;\">\n",
       "      <th></th>\n",
       "      <th>author_id</th>\n",
       "      <th>browser</th>\n",
       "      <th>category_id</th>\n",
       "      <th>city</th>\n",
       "      <th>country</th>\n",
       "      <th>date</th>\n",
       "      <th>device_brand</th>\n",
       "      <th>hour</th>\n",
       "      <th>os</th>\n",
       "      <th>timestamp</th>\n",
       "    </tr>\n",
       "  </thead>\n",
       "  <tbody>\n",
       "    <tr>\n",
       "      <th>0</th>\n",
       "      <td>anise</td>\n",
       "      <td>Chrome Mobile</td>\n",
       "      <td>國內旅遊</td>\n",
       "      <td>Taipei</td>\n",
       "      <td>TW</td>\n",
       "      <td>20150730</td>\n",
       "      <td>Sony</td>\n",
       "      <td>15</td>\n",
       "      <td>Android</td>\n",
       "      <td>1438243085</td>\n",
       "    </tr>\n",
       "    <tr>\n",
       "      <th>1</th>\n",
       "      <td>myvitus</td>\n",
       "      <td>Chrome Mobile</td>\n",
       "      <td>戀愛情事</td>\n",
       "      <td>Taipei</td>\n",
       "      <td>TW</td>\n",
       "      <td>20150309</td>\n",
       "      <td>Samsung</td>\n",
       "      <td>7</td>\n",
       "      <td>Android</td>\n",
       "      <td>1425857825</td>\n",
       "    </tr>\n",
       "    <tr>\n",
       "      <th>2</th>\n",
       "      <td>bonddealerbook</td>\n",
       "      <td>Chrome</td>\n",
       "      <td>國外旅遊</td>\n",
       "      <td>Taipei</td>\n",
       "      <td>TW</td>\n",
       "      <td>20150719</td>\n",
       "      <td></td>\n",
       "      <td>15</td>\n",
       "      <td>Windows 7</td>\n",
       "      <td>1437292576</td>\n",
       "    </tr>\n",
       "    <tr>\n",
       "      <th>3</th>\n",
       "      <td>loislinlin</td>\n",
       "      <td>Mobile Safari</td>\n",
       "      <td>數位生活</td>\n",
       "      <td>Taipei</td>\n",
       "      <td>TW</td>\n",
       "      <td>20150513</td>\n",
       "      <td>Apple</td>\n",
       "      <td>19</td>\n",
       "      <td>iOS</td>\n",
       "      <td>1431518129</td>\n",
       "    </tr>\n",
       "    <tr>\n",
       "      <th>4</th>\n",
       "      <td>saliha</td>\n",
       "      <td>Chrome Mobile</td>\n",
       "      <td>國內旅遊</td>\n",
       "      <td>Taipei</td>\n",
       "      <td>TW</td>\n",
       "      <td>20150422</td>\n",
       "      <td>Sony</td>\n",
       "      <td>0</td>\n",
       "      <td>Android</td>\n",
       "      <td>1429632475</td>\n",
       "    </tr>\n",
       "  </tbody>\n",
       "</table>\n",
       "</div>"
      ],
      "text/plain": [
       "        author_id        browser category_id    city country      date  \\\n",
       "0           anise  Chrome Mobile        國內旅遊  Taipei      TW  20150730   \n",
       "1         myvitus  Chrome Mobile        戀愛情事  Taipei      TW  20150309   \n",
       "2  bonddealerbook         Chrome        國外旅遊  Taipei      TW  20150719   \n",
       "3      loislinlin  Mobile Safari        數位生活  Taipei      TW  20150513   \n",
       "4          saliha  Chrome Mobile        國內旅遊  Taipei      TW  20150422   \n",
       "\n",
       "  device_brand  hour         os   timestamp  \n",
       "0         Sony    15    Android  1438243085  \n",
       "1      Samsung     7    Android  1425857825  \n",
       "2                 15  Windows 7  1437292576  \n",
       "3        Apple    19        iOS  1431518129  \n",
       "4         Sony     0    Android  1429632475  "
      ]
     },
     "execution_count": 2,
     "metadata": {},
     "output_type": "execute_result"
    }
   ],
   "source": [
    "data_temp = []\n",
    "with open(\"training/part-00000\") as f:\n",
    "    for line in f:\n",
    "        data_temp.append(json.loads(line))\n",
    "        \n",
    "df_temp = pd.DataFrame(data_temp)\n",
    "data_temp = []\n",
    "#df_temp.to_csv(\"df_1.csv\" , encoding=\"utf-8\" , index = False)\n",
    "#df_temp = []\n",
    "\n",
    "with open(\"training/part-00001\") as f:\n",
    "    for line in f:\n",
    "        data_temp.append(json.loads(line))\n",
    "        \n",
    "df_temp =df_temp.append(pd.DataFrame(data_temp), ignore_index = True)\n",
    "data_temp = []\n",
    "\n",
    "df = df_temp.drop([\"resolution\",\"browser_version\",\"cookie_pta\",\"os_version\",\"device_marketing\",\"url\"],axis = 1)\n",
    "df.head()"
   ]
  },
  {
   "cell_type": "code",
   "execution_count": 3,
   "metadata": {},
   "outputs": [],
   "source": [
    "import datetime\n",
    "import calendar"
   ]
  },
  {
   "cell_type": "markdown",
   "metadata": {},
   "source": [
    "# Data processing"
   ]
  },
  {
   "cell_type": "code",
   "execution_count": 4,
   "metadata": {},
   "outputs": [],
   "source": [
    "def ToWD(x):\n",
    "    y = datetime.datetime.fromtimestamp(x).weekday()\n",
    "    return y\n",
    "\n",
    "def ToM(x):\n",
    "    y = datetime.datetime.fromtimestamp(x).month\n",
    "    return y\n",
    "\n",
    "def ToY(x):\n",
    "    y = datetime.datetime.fromtimestamp(x).year\n",
    "    return y\n",
    "\n",
    "def ToD(x):\n",
    "    y = datetime.datetime.fromtimestamp(x).day\n",
    "    return y    \n",
    "\n",
    "df[\"week_day\"]=df[\"timestamp\"].apply(ToWD)\n",
    "df[\"month\"]=df[\"timestamp\"].apply(ToM)\n",
    "df[\"year\"]=df[\"timestamp\"].apply(ToY)\n",
    "df[\"day\"]=df[\"timestamp\"].apply(ToD)"
   ]
  },
  {
   "cell_type": "code",
   "execution_count": 5,
   "metadata": {
    "scrolled": false
   },
   "outputs": [
    {
     "data": {
      "text/html": [
       "<div>\n",
       "<style scoped>\n",
       "    .dataframe tbody tr th:only-of-type {\n",
       "        vertical-align: middle;\n",
       "    }\n",
       "\n",
       "    .dataframe tbody tr th {\n",
       "        vertical-align: top;\n",
       "    }\n",
       "\n",
       "    .dataframe thead th {\n",
       "        text-align: right;\n",
       "    }\n",
       "</style>\n",
       "<table border=\"1\" class=\"dataframe\">\n",
       "  <thead>\n",
       "    <tr style=\"text-align: right;\">\n",
       "      <th></th>\n",
       "      <th>author_id</th>\n",
       "      <th>browser</th>\n",
       "      <th>category_id</th>\n",
       "      <th>city</th>\n",
       "      <th>country</th>\n",
       "      <th>date</th>\n",
       "      <th>device_brand</th>\n",
       "      <th>hour</th>\n",
       "      <th>os</th>\n",
       "      <th>timestamp</th>\n",
       "      <th>week_day</th>\n",
       "      <th>month</th>\n",
       "      <th>year</th>\n",
       "      <th>day</th>\n",
       "    </tr>\n",
       "  </thead>\n",
       "  <tbody>\n",
       "    <tr>\n",
       "      <th>0</th>\n",
       "      <td>anise</td>\n",
       "      <td>Chrome Mobile</td>\n",
       "      <td>國內旅遊</td>\n",
       "      <td>Taipei</td>\n",
       "      <td>TW</td>\n",
       "      <td>20150730</td>\n",
       "      <td>Sony</td>\n",
       "      <td>15</td>\n",
       "      <td>Android</td>\n",
       "      <td>1438243085</td>\n",
       "      <td>3</td>\n",
       "      <td>7</td>\n",
       "      <td>2015</td>\n",
       "      <td>30</td>\n",
       "    </tr>\n",
       "    <tr>\n",
       "      <th>1</th>\n",
       "      <td>myvitus</td>\n",
       "      <td>Chrome Mobile</td>\n",
       "      <td>戀愛情事</td>\n",
       "      <td>Taipei</td>\n",
       "      <td>TW</td>\n",
       "      <td>20150309</td>\n",
       "      <td>Samsung</td>\n",
       "      <td>7</td>\n",
       "      <td>Android</td>\n",
       "      <td>1425857825</td>\n",
       "      <td>0</td>\n",
       "      <td>3</td>\n",
       "      <td>2015</td>\n",
       "      <td>9</td>\n",
       "    </tr>\n",
       "    <tr>\n",
       "      <th>2</th>\n",
       "      <td>bonddealerbook</td>\n",
       "      <td>Chrome</td>\n",
       "      <td>國外旅遊</td>\n",
       "      <td>Taipei</td>\n",
       "      <td>TW</td>\n",
       "      <td>20150719</td>\n",
       "      <td></td>\n",
       "      <td>15</td>\n",
       "      <td>Windows 7</td>\n",
       "      <td>1437292576</td>\n",
       "      <td>6</td>\n",
       "      <td>7</td>\n",
       "      <td>2015</td>\n",
       "      <td>19</td>\n",
       "    </tr>\n",
       "    <tr>\n",
       "      <th>3</th>\n",
       "      <td>loislinlin</td>\n",
       "      <td>Mobile Safari</td>\n",
       "      <td>數位生活</td>\n",
       "      <td>Taipei</td>\n",
       "      <td>TW</td>\n",
       "      <td>20150513</td>\n",
       "      <td>Apple</td>\n",
       "      <td>19</td>\n",
       "      <td>iOS</td>\n",
       "      <td>1431518129</td>\n",
       "      <td>2</td>\n",
       "      <td>5</td>\n",
       "      <td>2015</td>\n",
       "      <td>13</td>\n",
       "    </tr>\n",
       "    <tr>\n",
       "      <th>4</th>\n",
       "      <td>saliha</td>\n",
       "      <td>Chrome Mobile</td>\n",
       "      <td>國內旅遊</td>\n",
       "      <td>Taipei</td>\n",
       "      <td>TW</td>\n",
       "      <td>20150422</td>\n",
       "      <td>Sony</td>\n",
       "      <td>0</td>\n",
       "      <td>Android</td>\n",
       "      <td>1429632475</td>\n",
       "      <td>2</td>\n",
       "      <td>4</td>\n",
       "      <td>2015</td>\n",
       "      <td>22</td>\n",
       "    </tr>\n",
       "  </tbody>\n",
       "</table>\n",
       "</div>"
      ],
      "text/plain": [
       "        author_id        browser category_id    city country      date  \\\n",
       "0           anise  Chrome Mobile        國內旅遊  Taipei      TW  20150730   \n",
       "1         myvitus  Chrome Mobile        戀愛情事  Taipei      TW  20150309   \n",
       "2  bonddealerbook         Chrome        國外旅遊  Taipei      TW  20150719   \n",
       "3      loislinlin  Mobile Safari        數位生活  Taipei      TW  20150513   \n",
       "4          saliha  Chrome Mobile        國內旅遊  Taipei      TW  20150422   \n",
       "\n",
       "  device_brand  hour         os   timestamp  week_day  month  year  day  \n",
       "0         Sony    15    Android  1438243085         3      7  2015   30  \n",
       "1      Samsung     7    Android  1425857825         0      3  2015    9  \n",
       "2                 15  Windows 7  1437292576         6      7  2015   19  \n",
       "3        Apple    19        iOS  1431518129         2      5  2015   13  \n",
       "4         Sony     0    Android  1429632475         2      4  2015   22  "
      ]
     },
     "execution_count": 5,
     "metadata": {},
     "output_type": "execute_result"
    }
   ],
   "source": [
    "df.head()"
   ]
  },
  {
   "cell_type": "code",
   "execution_count": 6,
   "metadata": {},
   "outputs": [
    {
     "data": {
      "text/html": [
       "<div>\n",
       "<style scoped>\n",
       "    .dataframe tbody tr th:only-of-type {\n",
       "        vertical-align: middle;\n",
       "    }\n",
       "\n",
       "    .dataframe tbody tr th {\n",
       "        vertical-align: top;\n",
       "    }\n",
       "\n",
       "    .dataframe thead th {\n",
       "        text-align: right;\n",
       "    }\n",
       "</style>\n",
       "<table border=\"1\" class=\"dataframe\">\n",
       "  <thead>\n",
       "    <tr style=\"text-align: right;\">\n",
       "      <th></th>\n",
       "      <th>author_id</th>\n",
       "      <th>browser</th>\n",
       "      <th>category_id</th>\n",
       "      <th>city</th>\n",
       "      <th>country</th>\n",
       "      <th>device_brand</th>\n",
       "      <th>hour</th>\n",
       "      <th>os</th>\n",
       "      <th>week_day</th>\n",
       "      <th>month</th>\n",
       "      <th>year</th>\n",
       "      <th>day</th>\n",
       "    </tr>\n",
       "  </thead>\n",
       "  <tbody>\n",
       "    <tr>\n",
       "      <th>0</th>\n",
       "      <td>anise</td>\n",
       "      <td>Chrome Mobile</td>\n",
       "      <td>國內旅遊</td>\n",
       "      <td>Taipei</td>\n",
       "      <td>TW</td>\n",
       "      <td>Sony</td>\n",
       "      <td>15</td>\n",
       "      <td>Android</td>\n",
       "      <td>3</td>\n",
       "      <td>7</td>\n",
       "      <td>2015</td>\n",
       "      <td>30</td>\n",
       "    </tr>\n",
       "    <tr>\n",
       "      <th>1</th>\n",
       "      <td>myvitus</td>\n",
       "      <td>Chrome Mobile</td>\n",
       "      <td>戀愛情事</td>\n",
       "      <td>Taipei</td>\n",
       "      <td>TW</td>\n",
       "      <td>Samsung</td>\n",
       "      <td>7</td>\n",
       "      <td>Android</td>\n",
       "      <td>0</td>\n",
       "      <td>3</td>\n",
       "      <td>2015</td>\n",
       "      <td>9</td>\n",
       "    </tr>\n",
       "    <tr>\n",
       "      <th>2</th>\n",
       "      <td>bonddealerbook</td>\n",
       "      <td>Chrome</td>\n",
       "      <td>國外旅遊</td>\n",
       "      <td>Taipei</td>\n",
       "      <td>TW</td>\n",
       "      <td></td>\n",
       "      <td>15</td>\n",
       "      <td>Windows 7</td>\n",
       "      <td>6</td>\n",
       "      <td>7</td>\n",
       "      <td>2015</td>\n",
       "      <td>19</td>\n",
       "    </tr>\n",
       "    <tr>\n",
       "      <th>3</th>\n",
       "      <td>loislinlin</td>\n",
       "      <td>Mobile Safari</td>\n",
       "      <td>數位生活</td>\n",
       "      <td>Taipei</td>\n",
       "      <td>TW</td>\n",
       "      <td>Apple</td>\n",
       "      <td>19</td>\n",
       "      <td>iOS</td>\n",
       "      <td>2</td>\n",
       "      <td>5</td>\n",
       "      <td>2015</td>\n",
       "      <td>13</td>\n",
       "    </tr>\n",
       "    <tr>\n",
       "      <th>4</th>\n",
       "      <td>saliha</td>\n",
       "      <td>Chrome Mobile</td>\n",
       "      <td>國內旅遊</td>\n",
       "      <td>Taipei</td>\n",
       "      <td>TW</td>\n",
       "      <td>Sony</td>\n",
       "      <td>0</td>\n",
       "      <td>Android</td>\n",
       "      <td>2</td>\n",
       "      <td>4</td>\n",
       "      <td>2015</td>\n",
       "      <td>22</td>\n",
       "    </tr>\n",
       "  </tbody>\n",
       "</table>\n",
       "</div>"
      ],
      "text/plain": [
       "        author_id        browser category_id    city country device_brand  \\\n",
       "0           anise  Chrome Mobile        國內旅遊  Taipei      TW         Sony   \n",
       "1         myvitus  Chrome Mobile        戀愛情事  Taipei      TW      Samsung   \n",
       "2  bonddealerbook         Chrome        國外旅遊  Taipei      TW                \n",
       "3      loislinlin  Mobile Safari        數位生活  Taipei      TW        Apple   \n",
       "4          saliha  Chrome Mobile        國內旅遊  Taipei      TW         Sony   \n",
       "\n",
       "   hour         os  week_day  month  year  day  \n",
       "0    15    Android         3      7  2015   30  \n",
       "1     7    Android         0      3  2015    9  \n",
       "2    15  Windows 7         6      7  2015   19  \n",
       "3    19        iOS         2      5  2015   13  \n",
       "4     0    Android         2      4  2015   22  "
      ]
     },
     "execution_count": 6,
     "metadata": {},
     "output_type": "execute_result"
    }
   ],
   "source": [
    "df_p = df.drop([\"date\",\"timestamp\"],axis = 1)\n",
    "df_p.head()"
   ]
  },
  {
   "cell_type": "code",
   "execution_count": 7,
   "metadata": {
    "scrolled": true
   },
   "outputs": [
    {
     "name": "stdout",
     "output_type": "stream",
     "text": [
      "<class 'pandas.core.frame.DataFrame'>\n",
      "RangeIndex: 868868 entries, 0 to 868867\n",
      "Data columns (total 12 columns):\n",
      "author_id       868868 non-null object\n",
      "browser         868868 non-null object\n",
      "category_id     868868 non-null object\n",
      "city            868868 non-null object\n",
      "country         868868 non-null object\n",
      "device_brand    868868 non-null object\n",
      "hour            868868 non-null int64\n",
      "os              868868 non-null object\n",
      "week_day        868868 non-null int64\n",
      "month           868868 non-null int64\n",
      "year            868868 non-null int64\n",
      "day             868868 non-null int64\n",
      "dtypes: int64(5), object(7)\n",
      "memory usage: 79.5+ MB\n"
     ]
    }
   ],
   "source": [
    "df_p.info()"
   ]
  },
  {
   "cell_type": "markdown",
   "metadata": {},
   "source": [
    "## Check null"
   ]
  },
  {
   "cell_type": "code",
   "execution_count": 8,
   "metadata": {
    "scrolled": true
   },
   "outputs": [
    {
     "data": {
      "text/plain": [
       "author_id       0\n",
       "browser         0\n",
       "category_id     0\n",
       "city            0\n",
       "country         0\n",
       "device_brand    0\n",
       "hour            0\n",
       "os              0\n",
       "week_day        0\n",
       "month           0\n",
       "year            0\n",
       "day             0\n",
       "dtype: int64"
      ]
     },
     "execution_count": 8,
     "metadata": {},
     "output_type": "execute_result"
    }
   ],
   "source": [
    "df_p.isnull().sum()"
   ]
  },
  {
   "cell_type": "code",
   "execution_count": 9,
   "metadata": {
    "scrolled": true
   },
   "outputs": [
    {
     "data": {
      "text/plain": [
       "22    61196\n",
       "23    58576\n",
       "21    55228\n",
       "16    51194\n",
       "17    50593\n",
       "15    48834\n",
       "11    48183\n",
       "12    47490\n",
       "20    47019\n",
       "13    46327\n",
       "14    45840\n",
       "0     43978\n",
       "18    43354\n",
       "19    42355\n",
       "10    41745\n",
       "9     33189\n",
       "1     25568\n",
       "8     22735\n",
       "2     14485\n",
       "7     13279\n",
       "3      8809\n",
       "6      7874\n",
       "4      5945\n",
       "5      5072\n",
       "Name: hour, dtype: int64"
      ]
     },
     "execution_count": 9,
     "metadata": {},
     "output_type": "execute_result"
    }
   ],
   "source": [
    "df['hour'].value_counts()"
   ]
  },
  {
   "cell_type": "markdown",
   "metadata": {},
   "source": [
    "# Analyze\n",
    "## Country\n",
    "取前10"
   ]
  },
  {
   "cell_type": "code",
   "execution_count": 10,
   "metadata": {},
   "outputs": [],
   "source": [
    "df_22 = df['country'].value_counts()"
   ]
  },
  {
   "cell_type": "code",
   "execution_count": 11,
   "metadata": {
    "scrolled": true
   },
   "outputs": [],
   "source": [
    "df_22 = df_22.head(10)"
   ]
  },
  {
   "cell_type": "code",
   "execution_count": 12,
   "metadata": {
    "scrolled": true
   },
   "outputs": [
    {
     "data": {
      "image/png": "[encoded data removed]",
      "text/plain": [
       "<Figure size 432x288 with 1 Axes>"
      ]
     },
     "metadata": {
      "needs_background": "light"
     },
     "output_type": "display_data"
    }
   ],
   "source": [
    "BarR = df_22.plot.bar(color=\"b\")"
   ]
  },
  {
   "cell_type": "code",
   "execution_count": 13,
   "metadata": {
    "scrolled": true
   },
   "outputs": [
    {
     "data": {
      "text/plain": [
       "TW    789605\n",
       "HK     40947\n",
       "JP      8392\n",
       "US      5871\n",
       "MY      5213\n",
       "MO      3020\n",
       "AU      2963\n",
       "GB      1920\n",
       "KR      1886\n",
       "SG      1699\n",
       "TH      1459\n",
       "CA      1445\n",
       "FR       471\n",
       "DE       447\n",
       "CH       402\n",
       "VN       333\n",
       "IT       288\n",
       "ID       250\n",
       "NL       238\n",
       "NZ       199\n",
       "AP       164\n",
       "ES       151\n",
       "PH       134\n",
       "KH       120\n",
       "BN       100\n",
       "CZ        86\n",
       "AT        72\n",
       "PY        60\n",
       "CO        56\n",
       "CN        53\n",
       "       ...  \n",
       "CL         9\n",
       "SI         9\n",
       "MM         8\n",
       "BD         8\n",
       "MC         7\n",
       "SA         7\n",
       "PG         6\n",
       "FI         6\n",
       "MV         5\n",
       "GT         5\n",
       "HN         5\n",
       "NI         5\n",
       "LA         4\n",
       "KW         4\n",
       "OM         4\n",
       "LK         4\n",
       "AL         3\n",
       "DO         3\n",
       "IL         2\n",
       "VE         2\n",
       "LU         2\n",
       "PA         2\n",
       "PE         2\n",
       "CR         2\n",
       "BO         1\n",
       "AO         1\n",
       "NP         1\n",
       "SV         1\n",
       "NG         1\n",
       "IS         1\n",
       "Name: country, Length: 86, dtype: int64"
      ]
     },
     "execution_count": 13,
     "metadata": {},
     "output_type": "execute_result"
    }
   ],
   "source": [
    "df['country'].value_counts()"
   ]
  },
  {
   "cell_type": "markdown",
   "metadata": {},
   "source": [
    "## Category ID"
   ]
  },
  {
   "cell_type": "code",
   "execution_count": 14,
   "metadata": {
    "scrolled": false
   },
   "outputs": [
    {
     "data": {
      "image/png": "[encoded data removed]",
      "text/plain": [
       "<Figure size 432x288 with 1 Axes>"
      ]
     },
     "metadata": {
      "needs_background": "light"
     },
     "output_type": "display_data"
    }
   ],
   "source": [
    "BarR = df['category_id'].value_counts().plot.bar(color=\"b\")"
   ]
  },
  {
   "cell_type": "code",
   "execution_count": 15,
   "metadata": {
    "scrolled": true
   },
   "outputs": [
    {
     "data": {
      "text/plain": [
       "美味食記     228955\n",
       "國外旅遊     119184\n",
       "國內旅遊      89637\n",
       "不設分類      84732\n",
       "親子育兒      39401\n",
       "食譜分享      36647\n",
       "數位生活      29862\n",
       "美容彩妝      29228\n",
       "時尚流行      29058\n",
       "生活綜合      27205\n",
       "視聽娛樂      17308\n",
       "醫療保健      14577\n",
       "星座算命      11351\n",
       "電影評論      10779\n",
       "偶像明星       7450\n",
       "運動體育       6268\n",
       "心情日記       6108\n",
       "財經企管       6082\n",
       "小說連載       5643\n",
       "戀愛情事       5559\n",
       "收藏嗜好       5458\n",
       "圖文創作       5280\n",
       "電玩動漫       5171\n",
       "職場甘苦       5083\n",
       "結婚紀錄       4674\n",
       "進修深造       4218\n",
       "攝影寫真       3756\n",
       "音樂評析       3413\n",
       "汽機車        3289\n",
       "裝潢設計       3193\n",
       "宗教超自然      3007\n",
       "寵物日記       2931\n",
       "藝文評論       2909\n",
       "心理測驗       2506\n",
       "活動紀錄       1943\n",
       "散文筆記       1717\n",
       "政論人文       1510\n",
       "KUSO       1168\n",
       "校園生活       1114\n",
       "視覺設計        976\n",
       "漫畫塗鴉        518\n",
       "Name: category_id, dtype: int64"
      ]
     },
     "execution_count": 15,
     "metadata": {},
     "output_type": "execute_result"
    }
   ],
   "source": [
    "df['category_id'].value_counts()"
   ]
  },
  {
   "cell_type": "markdown",
   "metadata": {},
   "source": [
    "取前10"
   ]
  },
  {
   "cell_type": "code",
   "execution_count": 16,
   "metadata": {
    "scrolled": false
   },
   "outputs": [
    {
     "data": {
      "text/plain": [
       "美味食記    228955\n",
       "國外旅遊    119184\n",
       "國內旅遊     89637\n",
       "不設分類     84732\n",
       "親子育兒     39401\n",
       "食譜分享     36647\n",
       "數位生活     29862\n",
       "美容彩妝     29228\n",
       "時尚流行     29058\n",
       "生活綜合     27205\n",
       "Name: category_id, dtype: int64"
      ]
     },
     "execution_count": 16,
     "metadata": {},
     "output_type": "execute_result"
    }
   ],
   "source": [
    "aa = df['category_id'].value_counts().head(10)\n",
    "aa"
   ]
  },
  {
   "cell_type": "code",
   "execution_count": 17,
   "metadata": {
    "scrolled": true
   },
   "outputs": [
    {
     "data": {
      "image/png": "[encoded data removed]",
      "text/plain": [
       "<Figure size 432x288 with 1 Axes>"
      ]
     },
     "metadata": {
      "needs_background": "light"
     },
     "output_type": "display_data"
    }
   ],
   "source": [
    "BarAA = aa.plot.bar(color=\"b\")"
   ]
  },
  {
   "cell_type": "markdown",
   "metadata": {},
   "source": [
    "## Browser"
   ]
  },
  {
   "cell_type": "code",
   "execution_count": 18,
   "metadata": {
    "scrolled": true
   },
   "outputs": [
    {
     "data": {
      "text/plain": [
       "Chrome Mobile                  285614\n",
       "Chrome                         268633\n",
       "Mobile Safari                  120974\n",
       "Android                         78162\n",
       "Other                           32837\n",
       "Firefox                         26095\n",
       "Chrome Mobile iOS               24679\n",
       "IE                              23896\n",
       "Safari                           4208\n",
       "Firefox Mobile                   1557\n",
       "UC Browser                        489\n",
       "Maxthon                           419\n",
       "Opera Mobile                      410\n",
       "IE Mobile                         218\n",
       "Opera                             198\n",
       "Chrome Frame                      147\n",
       "Yandex Browser                    113\n",
       "BlackBerry WebKit                  63\n",
       "Sogou Explorer                     58\n",
       "Pale Moon (Firefox Variant)        25\n",
       "Avant                              22\n",
       "Chromium                           17\n",
       "QQ Browser                         10\n",
       "Baidu Browser                       7\n",
       "Skyfire                             4\n",
       "Iceweasel                           4\n",
       "Sleipnir                            4\n",
       "IE Large Screen                     2\n",
       "MyIE2                               2\n",
       "MAXTHON                             1\n",
       "Name: browser, dtype: int64"
      ]
     },
     "execution_count": 18,
     "metadata": {},
     "output_type": "execute_result"
    }
   ],
   "source": [
    "df['browser'].value_counts()"
   ]
  },
  {
   "cell_type": "code",
   "execution_count": 19,
   "metadata": {
    "scrolled": false
   },
   "outputs": [
    {
     "data": {
      "image/png": "[encoded data removed]",
      "text/plain": [
       "<Figure size 432x288 with 1 Axes>"
      ]
     },
     "metadata": {
      "needs_background": "light"
     },
     "output_type": "display_data"
    }
   ],
   "source": [
    "BarR = df['browser'].value_counts().plot.bar(color=\"b\")"
   ]
  },
  {
   "cell_type": "markdown",
   "metadata": {},
   "source": [
    "## Device brand"
   ]
  },
  {
   "cell_type": "code",
   "execution_count": 20,
   "metadata": {
    "scrolled": true
   },
   "outputs": [
    {
     "data": {
      "text/plain": [
       "                 363637\n",
       "Apple            145639\n",
       "Samsung          123145\n",
       "hTC               83841\n",
       "Sony              58017\n",
       "Asus              28981\n",
       "LG                14266\n",
       "HTC               13321\n",
       "小米                10294\n",
       "InFocus            5535\n",
       "HP                 4271\n",
       "TWM                2192\n",
       "HUAWEI             1533\n",
       "Google             1491\n",
       "ACER               1474\n",
       "SonyEricsson       1177\n",
       "OPPO               1146\n",
       "ZTE                 831\n",
       "Nokia               782\n",
       "G-Plus              557\n",
       "酷派                  472\n",
       "美圖                  470\n",
       "Lenovo              462\n",
       "Sharp               420\n",
       "Pantech             367\n",
       "ChangJiang          334\n",
       "SK                  331\n",
       "Fareastone          287\n",
       "步步高                 281\n",
       "moii                270\n",
       "                  ...  \n",
       "Nvidia                4\n",
       "Disney Mobile         4\n",
       "夢想                    4\n",
       "揚邑                    4\n",
       "優思                    3\n",
       "T-Mobile              3\n",
       "IVG                   3\n",
       "Vodafone              3\n",
       "天米                    3\n",
       "方天多                   2\n",
       "Novo                  2\n",
       "iNew                  2\n",
       "夏新                    2\n",
       "NEOSON                2\n",
       "VOVO                  2\n",
       "Cube                  2\n",
       "螢火蟲                   2\n",
       "拓客                    1\n",
       "i-Touch               1\n",
       "IMO                   1\n",
       "Fly                   1\n",
       "歌林                    1\n",
       "EX'NOTE               1\n",
       "TCL                   1\n",
       "昂達                    1\n",
       "Simdo                 1\n",
       "海爾                    1\n",
       "Oympus                1\n",
       "kiwi mobile           1\n",
       "Intel                 1\n",
       "Name: device_brand, Length: 145, dtype: int64"
      ]
     },
     "execution_count": 20,
     "metadata": {},
     "output_type": "execute_result"
    }
   ],
   "source": [
    "df['device_brand'].value_counts()"
   ]
  },
  {
   "cell_type": "markdown",
   "metadata": {},
   "source": [
    "取前10，發現有很多沒有label"
   ]
  },
  {
   "cell_type": "code",
   "execution_count": 21,
   "metadata": {
    "scrolled": true
   },
   "outputs": [
    {
     "data": {
      "text/plain": [
       "           363637\n",
       "Apple      145639\n",
       "Samsung    123145\n",
       "hTC         83841\n",
       "Sony        58017\n",
       "Asus        28981\n",
       "LG          14266\n",
       "HTC         13321\n",
       "小米          10294\n",
       "InFocus      5535\n",
       "Name: device_brand, dtype: int64"
      ]
     },
     "execution_count": 21,
     "metadata": {},
     "output_type": "execute_result"
    }
   ],
   "source": [
    "df['device_brand'].value_counts()\n",
    "bb = df['device_brand'].value_counts().head(10)\n",
    "bb"
   ]
  },
  {
   "cell_type": "code",
   "execution_count": 22,
   "metadata": {
    "scrolled": true
   },
   "outputs": [
    {
     "data": {
      "image/png": "[encoded data removed]",
      "text/plain": [
       "<Figure size 432x288 with 1 Axes>"
      ]
     },
     "metadata": {
      "needs_background": "light"
     },
     "output_type": "display_data"
    }
   ],
   "source": [
    "BarBB = bb.plot.bar(color=\"b\")"
   ]
  },
  {
   "cell_type": "markdown",
   "metadata": {},
   "source": [
    "將沒有值的資料取出來分析他們的OS"
   ]
  },
  {
   "cell_type": "code",
   "execution_count": 23,
   "metadata": {
    "scrolled": false
   },
   "outputs": [
    {
     "data": {
      "text/plain": [
       "Windows 7        214645\n",
       "Windows XP        45781\n",
       "Windows           44019\n",
       "Mac OS X          19218\n",
       "Android           17908\n",
       "Linux             10696\n",
       "Windows 8          7637\n",
       "Windows Vista      3265\n",
       "Ubuntu              175\n",
       "Windows 2000        131\n",
       "Chrome OS            60\n",
       "Windows RT           55\n",
       "iOS                  33\n",
       "Windows Phone        12\n",
       "Windows 98            2\n",
       "Name: os, dtype: int64"
      ]
     },
     "execution_count": 23,
     "metadata": {},
     "output_type": "execute_result"
    }
   ],
   "source": [
    "df_bb = df[df[\"device_brand\"] == \"\"]\n",
    "df_bb['os'].value_counts()"
   ]
  },
  {
   "cell_type": "markdown",
   "metadata": {},
   "source": [
    "## OS"
   ]
  },
  {
   "cell_type": "code",
   "execution_count": 24,
   "metadata": {
    "scrolled": true
   },
   "outputs": [
    {
     "data": {
      "text/plain": [
       "Android          377104\n",
       "Windows 7        214645\n",
       "iOS              145672\n",
       "Windows XP        45781\n",
       "Windows           44019\n",
       "Mac OS X          19234\n",
       "Linux             10701\n",
       "Windows 8          7637\n",
       "Windows Vista      3265\n",
       "Windows Phone       224\n",
       "Ubuntu              175\n",
       "Windows RT          155\n",
       "Windows 2000        131\n",
       "BlackBerry OS        63\n",
       "Chrome OS            60\n",
       "Windows 98            2\n",
       "Name: os, dtype: int64"
      ]
     },
     "execution_count": 24,
     "metadata": {},
     "output_type": "execute_result"
    }
   ],
   "source": [
    "df['os'].value_counts()"
   ]
  },
  {
   "cell_type": "code",
   "execution_count": 25,
   "metadata": {},
   "outputs": [
    {
     "data": {
      "image/png": "[encoded data removed]",
      "text/plain": [
       "<Figure size 432x288 with 1 Axes>"
      ]
     },
     "metadata": {
      "needs_background": "light"
     },
     "output_type": "display_data"
    }
   ],
   "source": [
    "Bar_oo = df['os'].value_counts().plot.bar(color=\"b\")"
   ]
  },
  {
   "cell_type": "code",
   "execution_count": 26,
   "metadata": {
    "scrolled": true
   },
   "outputs": [
    {
     "data": {
      "text/plain": [
       "Android          377104\n",
       "Windows 7        214645\n",
       "iOS              145672\n",
       "Windows XP        45781\n",
       "Windows           44019\n",
       "Mac OS X          19234\n",
       "Linux             10701\n",
       "Windows 8          7637\n",
       "Windows Vista      3265\n",
       "Windows Phone       224\n",
       "Name: os, dtype: int64"
      ]
     },
     "execution_count": 26,
     "metadata": {},
     "output_type": "execute_result"
    }
   ],
   "source": [
    "oo = df['os'].value_counts().head(10)\n",
    "oo"
   ]
  },
  {
   "cell_type": "markdown",
   "metadata": {},
   "source": [
    "## City"
   ]
  },
  {
   "cell_type": "code",
   "execution_count": 27,
   "metadata": {
    "scrolled": true
   },
   "outputs": [
    {
     "data": {
      "text/plain": [
       "Taipei             457779\n",
       "                   335129\n",
       "CentralDistrict     29897\n",
       "Taichung             8412\n",
       "Kaohsiung            3618\n",
       "Tokyo                2076\n",
       "Hsinchu              2058\n",
       "Singapore            1469\n",
       "KualaLumpur          1436\n",
       "Taoyan               1385\n",
       "Miaoli               1376\n",
       "Kowloon              1307\n",
       "KwaiChung            1032\n",
       "Tainan                983\n",
       "Macau                 682\n",
       "KwunTong              601\n",
       "London                472\n",
       "Bangkok               465\n",
       "Ynlin                 453\n",
       "Seoul                 429\n",
       "Hatfield              428\n",
       "Vibhavadi             400\n",
       "Brisbane              300\n",
       "QuarryBay             286\n",
       "Chiai                 285\n",
       "Hanoi                 274\n",
       "Keelung               273\n",
       "Changhua              239\n",
       "PetalingJaya          212\n",
       "Perth                 211\n",
       "                    ...  \n",
       "Groton                  1\n",
       "Farmingville            1\n",
       "Brainerd                1\n",
       "Onil                    1\n",
       "Cartago                 1\n",
       "Blumberg                1\n",
       "Kirkland                1\n",
       "Wangaratta              1\n",
       "Belrose                 1\n",
       "Pgomas                  1\n",
       "Kitchener               1\n",
       "Yorkville               1\n",
       "Trondheim               1\n",
       "Ningbo                  1\n",
       "Kew                     1\n",
       "GlenWaverley            1\n",
       "Speyer                  1\n",
       "Newmarket               1\n",
       "Windsor                 1\n",
       "Bellevue                1\n",
       "Sandakan                1\n",
       "LaPaz                   1\n",
       "Troisdorf               1\n",
       "Pymble                  1\n",
       "Imst                    1\n",
       "AlAin                   1\n",
       "Esenkent                1\n",
       "Kaplice                 1\n",
       "IslandEast              1\n",
       "Arlington               1\n",
       "Name: city, Length: 969, dtype: int64"
      ]
     },
     "execution_count": 27,
     "metadata": {},
     "output_type": "execute_result"
    }
   ],
   "source": [
    "df['city'].value_counts()"
   ]
  },
  {
   "cell_type": "code",
   "execution_count": 28,
   "metadata": {
    "scrolled": false
   },
   "outputs": [
    {
     "data": {
      "image/png": "[encoded data removed]",
      "text/plain": [
       "<Figure size 432x288 with 1 Axes>"
      ]
     },
     "metadata": {
      "needs_background": "light"
     },
     "output_type": "display_data"
    }
   ],
   "source": [
    "cc = df['city'].value_counts().head(10)\n",
    "Bar_cc = cc.plot.bar(color=\"b\")"
   ]
  },
  {
   "cell_type": "markdown",
   "metadata": {},
   "source": [
    "## Author ID"
   ]
  },
  {
   "cell_type": "code",
   "execution_count": 29,
   "metadata": {
    "scrolled": true
   },
   "outputs": [
    {
     "data": {
      "text/plain": [
       "lohas               23591\n",
       "leeyihugh            7371\n",
       "anise                6798\n",
       "cline1413            5987\n",
       "uniquevera           5765\n",
       "wkitty               5708\n",
       "seba                 5462\n",
       "nellydyu             5121\n",
       "mrmad                5075\n",
       "estherhsiao          4759\n",
       "choyce               4591\n",
       "cheng0073            4206\n",
       "carriewang           4118\n",
       "hsing16              4105\n",
       "nigi33kimo           4084\n",
       "mygod0328            4007\n",
       "naughtyangel         3790\n",
       "smilejean            3784\n",
       "boylondon            3666\n",
       "dinosaurs            3620\n",
       "mimg47               3425\n",
       "bajenny              3319\n",
       "judyer101010         3245\n",
       "ksdelicacy           3239\n",
       "RainDog              3234\n",
       "zine1215             3196\n",
       "paine0602            2888\n",
       "jay7134              2818\n",
       "murasakikuma         2785\n",
       "ch3126               2692\n",
       "                    ...  \n",
       "cutebodi               41\n",
       "trinakuo               41\n",
       "cloudiecandy           41\n",
       "yibabi                 41\n",
       "tungbin                40\n",
       "w0973320589            40\n",
       "neoneo5466             40\n",
       "vinegareveryday        39\n",
       "waouman                39\n",
       "philjchun              39\n",
       "auberge98              39\n",
       "lee60207               38\n",
       "queenlikejam           38\n",
       "sofina1130             38\n",
       "sunnymay               38\n",
       "jennytw                38\n",
       "tokugawajpschool       38\n",
       "kokoseitina            37\n",
       "lulala89011            37\n",
       "brian6724              37\n",
       "mike14913              37\n",
       "pqzm66                 36\n",
       "taipeiwalker           36\n",
       "ilove3d                35\n",
       "gn0930150655           35\n",
       "kipppan                35\n",
       "tatit                  34\n",
       "cksmom                 33\n",
       "nataliepink            30\n",
       "hypernova              27\n",
       "Name: author_id, Length: 3039, dtype: int64"
      ]
     },
     "execution_count": 29,
     "metadata": {},
     "output_type": "execute_result"
    }
   ],
   "source": [
    "df['author_id'].value_counts()"
   ]
  },
  {
   "cell_type": "code",
   "execution_count": 30,
   "metadata": {},
   "outputs": [
    {
     "data": {
      "image/png": "[encoded data removed]",
      "text/plain": [
       "<Figure size 432x288 with 1 Axes>"
      ]
     },
     "metadata": {
      "needs_background": "light"
     },
     "output_type": "display_data"
    }
   ],
   "source": [
    "au=df['author_id'].value_counts().head(10)\n",
    "Bar_au = au.plot.bar(color=\"b\")"
   ]
  },
  {
   "cell_type": "markdown",
   "metadata": {},
   "source": [
    "## Time analyze\n",
    "### hour"
   ]
  },
  {
   "cell_type": "code",
   "execution_count": 31,
   "metadata": {
    "scrolled": false
   },
   "outputs": [
    {
     "name": "stderr",
     "output_type": "stream",
     "text": [
      "C:\\Programs\\Anaconda3\\lib\\site-packages\\scipy\\stats\\stats.py:1713: FutureWarning: Using a non-tuple sequence for multidimensional indexing is deprecated; use `arr[tuple(seq)]` instead of `arr[seq]`. In the future this will be interpreted as an array index, `arr[np.array(seq)]`, which will result either in an error or a different result.\n",
      "  return np.add.reduce(sorted[indexer] * weights, axis=axis) / sumval\n"
     ]
    },
    {
     "data": {
      "text/plain": [
       "<matplotlib.axes._subplots.AxesSubplot at 0x1c5d5c47128>"
      ]
     },
     "execution_count": 31,
     "metadata": {},
     "output_type": "execute_result"
    },
    {
     "data": {
      "image/png": "[encoded data removed]",
      "text/plain": [
       "<Figure size 432x288 with 1 Axes>"
      ]
     },
     "metadata": {
      "needs_background": "light"
     },
     "output_type": "display_data"
    }
   ],
   "source": [
    "sns.distplot(df['hour'], hist=True)"
   ]
  },
  {
   "cell_type": "markdown",
   "metadata": {},
   "source": [
    "###  Day"
   ]
  },
  {
   "cell_type": "code",
   "execution_count": 32,
   "metadata": {
    "scrolled": true
   },
   "outputs": [
    {
     "data": {
      "text/plain": [
       "<matplotlib.axes._subplots.AxesSubplot at 0x1c5d5d6b940>"
      ]
     },
     "execution_count": 32,
     "metadata": {},
     "output_type": "execute_result"
    },
    {
     "data": {
      "image/png": "[encoded data removed]",
      "text/plain": [
       "<Figure size 432x288 with 1 Axes>"
      ]
     },
     "metadata": {
      "needs_background": "light"
     },
     "output_type": "display_data"
    }
   ],
   "source": [
    "sns.distplot(df['day'], hist=True)"
   ]
  },
  {
   "cell_type": "markdown",
   "metadata": {},
   "source": [
    "### Weekday"
   ]
  },
  {
   "cell_type": "code",
   "execution_count": 33,
   "metadata": {
    "scrolled": false
   },
   "outputs": [
    {
     "data": {
      "text/plain": [
       "<matplotlib.axes._subplots.AxesSubplot at 0x1c5d5b93e48>"
      ]
     },
     "execution_count": 33,
     "metadata": {},
     "output_type": "execute_result"
    },
    {
     "data": {
      "image/png": "[encoded data removed]",
      "text/plain": [
       "<Figure size 432x288 with 1 Axes>"
      ]
     },
     "metadata": {
      "needs_background": "light"
     },
     "output_type": "display_data"
    }
   ],
   "source": [
    "sns.distplot(df['week_day'], hist=True)"
   ]
  },
  {
   "cell_type": "code",
   "execution_count": 34,
   "metadata": {
    "scrolled": true
   },
   "outputs": [
    {
     "data": {
      "text/plain": [
       "<matplotlib.axes._subplots.AxesSubplot at 0x1c5d5b93a20>"
      ]
     },
     "execution_count": 34,
     "metadata": {},
     "output_type": "execute_result"
    },
    {
     "data": {
      "image/png": "[encoded data removed]",
      "text/plain": [
       "<Figure size 432x288 with 1 Axes>"
      ]
     },
     "metadata": {
      "needs_background": "light"
     },
     "output_type": "display_data"
    }
   ],
   "source": [
    "sns.distplot(df['week_day'], kde=False, rug=True)"
   ]
  },
  {
   "cell_type": "markdown",
   "metadata": {},
   "source": [
    "### Month"
   ]
  },
  {
   "cell_type": "code",
   "execution_count": 35,
   "metadata": {},
   "outputs": [
    {
     "data": {
      "text/plain": [
       "<matplotlib.axes._subplots.AxesSubplot at 0x1c5d5fcd4a8>"
      ]
     },
     "execution_count": 35,
     "metadata": {},
     "output_type": "execute_result"
    },
    {
     "data": {
      "image/png": "[encoded data removed]",
      "text/plain": [
       "<Figure size 432x288 with 1 Axes>"
      ]
     },
     "metadata": {
      "needs_background": "light"
     },
     "output_type": "display_data"
    }
   ],
   "source": [
    "sns.distplot(df['month'], kde=False, rug=True)"
   ]
  },
  {
   "cell_type": "code",
   "execution_count": 36,
   "metadata": {
    "scrolled": true
   },
   "outputs": [
    {
     "data": {
      "text/plain": [
       "<matplotlib.axes._subplots.AxesSubplot at 0x1c5f5e23978>"
      ]
     },
     "execution_count": 36,
     "metadata": {},
     "output_type": "execute_result"
    },
    {
     "data": {
      "image/png": "[encoded data removed]",
      "text/plain": [
       "<Figure size 432x288 with 1 Axes>"
      ]
     },
     "metadata": {
      "needs_background": "light"
     },
     "output_type": "display_data"
    }
   ],
   "source": [
    "sns.distplot(df['month'], hist=False)"
   ]
  },
  {
   "cell_type": "code",
   "execution_count": 37,
   "metadata": {
    "scrolled": true
   },
   "outputs": [
    {
     "data": {
      "text/plain": [
       "6    169223\n",
       "7    164937\n",
       "5    162462\n",
       "8    145778\n",
       "4    121038\n",
       "3    105430\n",
       "Name: month, dtype: int64"
      ]
     },
     "execution_count": 37,
     "metadata": {},
     "output_type": "execute_result"
    }
   ],
   "source": [
    "df['month'].value_counts()"
   ]
  },
  {
   "cell_type": "markdown",
   "metadata": {},
   "source": [
    "### Timestamp"
   ]
  },
  {
   "cell_type": "code",
   "execution_count": 38,
   "metadata": {
    "scrolled": true
   },
   "outputs": [
    {
     "data": {
      "text/plain": [
       "<matplotlib.axes._subplots.AxesSubplot at 0x1c5950122e8>"
      ]
     },
     "execution_count": 38,
     "metadata": {},
     "output_type": "execute_result"
    },
    {
     "data": {
      "image/png": "[encoded data removed]",
      "text/plain": [
       "<Figure size 432x288 with 1 Axes>"
      ]
     },
     "metadata": {
      "needs_background": "light"
     },
     "output_type": "display_data"
    }
   ],
   "source": [
    "sns.distplot(df['timestamp'], hist=False)"
   ]
  }
 ],
 "metadata": {
  "kernelspec": {
   "display_name": "Python 3",
   "language": "python",
   "name": "python3"
  },
  "language_info": {
   "codemirror_mode": {
    "name": "ipython",
    "version": 3
   },
   "file_extension": ".py",
   "mimetype": "text/x-python",
   "name": "python",
   "nbconvert_exporter": "python",
   "pygments_lexer": "ipython3",
   "version": "3.7.1"
  }
 },
 "nbformat": 4,
 "nbformat_minor": 2
}
